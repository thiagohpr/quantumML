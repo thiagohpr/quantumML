{
 "cells": [
  {
   "cell_type": "markdown",
   "id": "dfb03fb1-db76-44f1-9b79-d858d44a6792",
   "metadata": {},
   "source": [
    "# Projeto - Introdução à Computação Quântica\n",
    "\n",
    "### Desenvolvedores:\n",
    "* José Rafael Martins Fernandes\n",
    "* Thiago Hampl Pierri da Rocha\n",
    "\n",
    "## Introdução\n",
    "\n",
    "Os *kernel algorithms* desempenham um papel crucial em *machine learning*, permitindo a transformação de dados complexos em espaços de alta dimensão, tornando possível a resolução de problemas não linearmente separáveis. No entanto, o desenvolvimento destes algoritmos utilizando a computação clássica enfrenta desafios significativos quando se trata de lidar com grandes conjuntos de dados e tarefas complexas de *machine learning*. Dessa forma, a computação quântica pode ser uma utilizada como uma maneira de tentar melhorar o desempenho destes algoritmos. Assim, vamos analisar uma pesquisa recente que investiga a interseção entre os s *kernel algorithms* e a computação quântica, com um foco especial na avaliação das possíveis vantagens dos modelos quânticos em tarefas de aprendizado. \n",
    "\n",
    "## Revisão do Artigo\n",
    "\n",
    "No artigo *Power of data in quantum machine learning*, os autores exploram o campo da computação quântica para *machine learning* e buscam avaliar as possíveis vantagens de modelos quânticos em tarefas de aprendizado. Eles começam enfatizando que tarefas de aprendizado de máquina que envolvem dados podem ser significativamente diferentes de outras tarefas computacionais comumente estudadas no domínio da computação quântica. Apesar dessa diferença, os autores demonstram que modelos clássicos de aprendizado de máquina, quando fornecidos com dados, podem competir com modelos quânticos, mesmo em situações em que a complexidade computacional é alta para a computação clássica.\n",
    "\n",
    "Para avaliar as possíveis vantagens de modelos quânticos em tarefas de aprendizado, os autores introduzem o conceito de uma diferença geométrica, que mede a dissimilaridade entre modelos de *machine learning* clássicos e quânticos com base em suas medidas de similaridade. Eles demonstram como essa diferença geométrica pode ser calculada e usada como uma ferramenta para avaliar o potencial de vantagem quântica na previsão. Se a diferença geométrica for pequena, espera-se que os modelos clássicos de aprendizado de máquina forneçam um desempenho semelhante ou até superior aos modelos quânticos, independentemente dos valores ou rótulos de funções específicas. Por outro lado, uma grande diferença geométrica indica o potencial de uma vantagem quântica.\n",
    "\n",
    "Assim, os autores realizam experimentos numéricos em conjuntos de dados projetados. Os resultados mostram que os modelos clássicos podem superar os modelos quânticos quando a diferença geométrica é pequena. No entanto, os autores também demonstram que um modelo quântico projetado pode apresentar uma significativa vantagem de previsão sobre os modelos clássicos quando a diferença geométrica é grande. Os experimentos destacam o papel dos dados na determinação das vantagens dos modelos de aprendizado de máquina quântica e enfatizam o potencial dos modelos quânticos projetados em fornecer um aumento na velocidade quântica em tarefas de aprendizado específicas.\n",
    "\n",
    "## Nosso projeto\n",
    "\n",
    "O objetivo do projeto consiste em empregar os experimentos mencionados no artigo a fim de verificar ou refutar as conclusões relativas às previsões entre os modelos clássicos e quânticos. Uma vez que o referido artigo aborda as condições que favorecem cada um desses modelos com base na geometria dos dados, planejamos aplicar tanto Kernels Clássicos quanto Quantum Kernels para avaliar tais vantagens, enquanto também examinamos a capacidade de previsão dos modelos quânticos em situações com diferenças significativas na geometria dos dados. Além disso, pretendemos realizar testes em múltiplas bases de dados, a fim de compreender a variabilidade dos resultados e demonstrar o impacto da estrutura dos dados nas conclusões do artigo.\n",
    "\n",
    "## Problema\n",
    "\n",
    "O principal desafio que enfrentamos no âmbito deste projeto reside na árdua tarefa de conduzir uma pesquisa para identificar e selecionar as bases de dados mais apropriadas que possam ser empregadas nas Provas de Conceito delineadas no artigo. Adicionalmente, nosso empenho se estende à aplicação de modelos tanto clássicos quanto quânticos, fazendo uso das bibliotecas que dão suporte a esses modelos, notadamente o scikit-learn e o Qiskit, a fim de alcançar resultados robustos e conclusivos em nossa análise.\n",
    "\n",
    "## Referências\n",
    "* https://www.nature.com/articles/s41467-021-22539-9\n",
    "* https://qiskit.org/ecosystem/machine-learning/tutorials/03_quantum_kernel.html\n",
    "* https://qiskit.org/ecosystem/machine-learning/tutorials/08_quantum_kernel_trainer.html"
   ]
  },
  {
   "cell_type": "code",
   "execution_count": 1,
   "id": "99d314ef-21ed-441c-999b-9f38d06f1c15",
   "metadata": {
    "tags": []
   },
   "outputs": [
    {
     "name": "stdout",
     "output_type": "stream",
     "text": [
      "Requirement already satisfied: qiskit_algorithms in /opt/conda/lib/python3.10/site-packages (0.2.1)\n",
      "Requirement already satisfied: scipy>=1.4 in /opt/conda/lib/python3.10/site-packages (from qiskit_algorithms) (1.9.3)\n",
      "Requirement already satisfied: qiskit-terra>=0.24 in /opt/conda/lib/python3.10/site-packages (from qiskit_algorithms) (0.25.3)\n",
      "Requirement already satisfied: numpy>=1.17 in /opt/conda/lib/python3.10/site-packages (from qiskit_algorithms) (1.23.5)\n",
      "Requirement already satisfied: symengine<0.10,>=0.9 in /opt/conda/lib/python3.10/site-packages (from qiskit-terra>=0.24->qiskit_algorithms) (0.9.2)\n",
      "Requirement already satisfied: stevedore>=3.0.0 in /opt/conda/lib/python3.10/site-packages (from qiskit-terra>=0.24->qiskit_algorithms) (4.1.1)\n",
      "Requirement already satisfied: sympy>=1.3 in /opt/conda/lib/python3.10/site-packages (from qiskit-terra>=0.24->qiskit_algorithms) (1.11.1)\n",
      "Requirement already satisfied: psutil>=5 in /opt/conda/lib/python3.10/site-packages (from qiskit-terra>=0.24->qiskit_algorithms) (5.9.4)\n",
      "Requirement already satisfied: rustworkx>=0.13.0 in /opt/conda/lib/python3.10/site-packages (from qiskit-terra>=0.24->qiskit_algorithms) (0.13.0)\n",
      "Requirement already satisfied: python-dateutil>=2.8.0 in /opt/conda/lib/python3.10/site-packages (from qiskit-terra>=0.24->qiskit_algorithms) (2.8.2)\n",
      "Requirement already satisfied: dill>=0.3 in /opt/conda/lib/python3.10/site-packages (from qiskit-terra>=0.24->qiskit_algorithms) (0.3.7)\n",
      "Requirement already satisfied: typing-extensions in /opt/conda/lib/python3.10/site-packages (from qiskit-terra>=0.24->qiskit_algorithms) (4.5.0)\n",
      "Requirement already satisfied: ply>=3.10 in /opt/conda/lib/python3.10/site-packages (from qiskit-terra>=0.24->qiskit_algorithms) (3.11)\n",
      "Requirement already satisfied: six>=1.5 in /opt/conda/lib/python3.10/site-packages (from python-dateutil>=2.8.0->qiskit-terra>=0.24->qiskit_algorithms) (1.16.0)\n",
      "Requirement already satisfied: pbr!=2.1.0,>=2.0.0 in /opt/conda/lib/python3.10/site-packages (from stevedore>=3.0.0->qiskit-terra>=0.24->qiskit_algorithms) (5.11.1)\n",
      "Requirement already satisfied: mpmath>=0.19 in /opt/conda/lib/python3.10/site-packages (from sympy>=1.3->qiskit-terra>=0.24->qiskit_algorithms) (1.3.0)\n",
      "\n",
      "\u001b[1m[\u001b[0m\u001b[34;49mnotice\u001b[0m\u001b[1;39;49m]\u001b[0m\u001b[39;49m A new release of pip available: \u001b[0m\u001b[31;49m23.1.1\u001b[0m\u001b[39;49m -> \u001b[0m\u001b[32;49m23.3.1\u001b[0m\n",
      "\u001b[1m[\u001b[0m\u001b[34;49mnotice\u001b[0m\u001b[1;39;49m]\u001b[0m\u001b[39;49m To update, run: \u001b[0m\u001b[32;49mpip install --upgrade pip\u001b[0m\n"
     ]
    }
   ],
   "source": [
    "!pip install qiskit_algorithms"
   ]
  },
  {
   "cell_type": "code",
   "execution_count": 1,
   "id": "a0d0853c",
   "metadata": {
    "tags": []
   },
   "outputs": [],
   "source": [
    "import pandas as pd\n",
    "\n",
    "from sklearn.model_selection import train_test_split\n",
    "from sklearn.svm import SVC\n",
    "from sklearn.metrics import accuracy_score\n",
    "from sklearn.model_selection import train_test_split\n",
    "\n",
    "from qiskit_machine_learning.algorithms import QSVC\n",
    "from qiskit_machine_learning.kernels import FidelityQuantumKernel\n",
    "from qiskit.primitives import Sampler\n",
    "from qiskit_algorithms.state_fidelities import ComputeUncompute\n",
    "from qiskit import Aer\n",
    "from qiskit.circuit.library import ZZFeatureMap"
   ]
  },
  {
   "cell_type": "code",
   "execution_count": 18,
   "id": "b8d39416",
   "metadata": {
    "tags": []
   },
   "outputs": [],
   "source": [
    "def classic_SVC(X, y, test_size=0.2, random_state=42):\n",
    "    # Split the data into train and test sets\n",
    "    X_train, X_test, y_train, y_test = train_test_split(X, y, test_size=test_size, random_state=random_state)\n",
    "\n",
    "    # Create an SVC model\n",
    "    svc_model = SVC(kernel='linear', random_state=random_state)\n",
    "\n",
    "    # Train the model\n",
    "    svc_model.fit(X_train, y_train)\n",
    "\n",
    "    # Make predictions on the test set\n",
    "    y_pred = svc_model.predict(X_test)\n",
    "\n",
    "    # Calculate accuracy\n",
    "    accuracy = accuracy_score(y_test, y_pred)\n",
    "\n",
    "    return accuracy, y_pred, y_test\n"
   ]
  },
  {
   "cell_type": "code",
   "execution_count": 23,
   "id": "96442575",
   "metadata": {
    "tags": []
   },
   "outputs": [],
   "source": [
    "def quantum_SVC(X, y, test_size=0.2, random_state=42):\n",
    "    # Split the data into train and test sets\n",
    "    X_train, X_test, y_train, y_test = train_test_split(X, y, test_size=test_size, random_state=random_state)\n",
    "\n",
    "    feature_map = ZZFeatureMap(feature_dimension=len(X.columns), reps=2, entanglement=\"linear\")\n",
    "\n",
    "    sampler = Sampler()\n",
    "\n",
    "    fidelity = ComputeUncompute(sampler=sampler)\n",
    "\n",
    "    quantum_kernel = FidelityQuantumKernel(fidelity=fidelity, feature_map=feature_map)\n",
    "\n",
    "    # Create the QSVC model\n",
    "    qsvc_model = QSVC(quantum_kernel=quantum_kernel)\n",
    "    \n",
    "    # Train the QSVC model\n",
    "    qsvc_model.fit(X_train, y_train)\n",
    "\n",
    "    # Test the model\n",
    "    y_pred = qsvc_model.predict(X_test)\n",
    "\n",
    "    # Calculate accuracy\n",
    "    accuracy = accuracy_score(y_test, y_pred)\n",
    "\n",
    "    return accuracy, y_pred, y_test"
   ]
  },
  {
   "cell_type": "code",
   "execution_count": 24,
   "id": "c4ef5558",
   "metadata": {
    "tags": []
   },
   "outputs": [
    {
     "name": "stdout",
     "output_type": "stream",
     "text": [
      "Accuracy of the SVC model: 0.8695652173913043\n",
      "Accuracy of the Quantum SVC model: 0.7391304347826086\n"
     ]
    }
   ],
   "source": [
    "df = pd.read_csv(\"data/breast_cancer_data.csv\", header = 0)\n",
    "\n",
    "sampled_df = df.sample(frac=0.20)\n",
    "\n",
    "sampled_df.drop('id', axis=1, inplace=True)\n",
    "sampled_df.drop('Unnamed: 32', axis=1, inplace=True)\n",
    "\n",
    "sampled_df['diagnosis'] = sampled_df['diagnosis'].map({'M':1,'B':0})\n",
    "sampled_df = sampled_df[[\"radius_mean\", \"texture_mean\", \"perimeter_mean\", \"area_mean\", \"smoothness_mean\", \"compactness_mean\", \"concavity_mean\", \"symmetry_mean\", \"fractal_dimension_mean\", \"diagnosis\"]]\n",
    "\n",
    "X = sampled_df.drop(\"diagnosis\", axis=1)\n",
    "y = sampled_df[\"diagnosis\"]\n",
    "\n",
    "accuracy_breast_cancer, y_pred_breast_cancer, y_test_breast_cancer = classic_SVC(X, y)\n",
    "print(f\"Accuracy of the SVC model: {accuracy_breast_cancer}\")\n",
    "\n",
    "accuracy_breast_cancer_quantum_svc, y_breast_cancer_pred_quantum_svc, y_breast_cancer_test_quantum_svc = quantum_SVC(X, y)\n",
    "print(f\"Accuracy of the Quantum SVC model: {accuracy_breast_cancer_quantum_svc}\")"
   ]
  },
  {
   "cell_type": "code",
   "execution_count": 25,
   "id": "196fadf4-db5e-4c5d-bb7b-28ecd7e7a5e5",
   "metadata": {},
   "outputs": [
    {
     "data": {
      "image/png": "[encoded data removed]",
      "text/plain": [
       "<Figure size 1200x500 with 2 Axes>"
      ]
     },
     "metadata": {},
     "output_type": "display_data"
    }
   ],
   "source": [
    "import matplotlib.pyplot as plt\n",
    "import seaborn as sns\n",
    "from sklearn.metrics import confusion_matrix\n",
    "\n",
    "# Create confusion matrices\n",
    "cm_classical = confusion_matrix(y_test_breast_cancer, y_pred_breast_cancer)\n",
    "cm_quantum = confusion_matrix(y_breast_cancer_test_quantum_svc, y_breast_cancer_pred_quantum_svc)\n",
    "\n",
    "# Plot confusion matrices\n",
    "plt.figure(figsize=(12, 5))\n",
    "\n",
    "plt.subplot(1, 2, 1)\n",
    "sns.heatmap(cm_classical, annot=True, fmt='d', cmap='Blues', cbar=False)\n",
    "plt.title('Classical SVC Confusion Matrix')\n",
    "\n",
    "plt.subplot(1, 2, 2)\n",
    "sns.heatmap(cm_quantum, annot=True, fmt='d', cmap='Blues', cbar=False)\n",
    "plt.title('Quantum SVC Confusion Matrix')\n",
    "\n",
    "plt.show()"
   ]
  },
  {
   "cell_type": "code",
   "execution_count": 28,
   "id": "8e5ce961",
   "metadata": {
    "tags": []
   },
   "outputs": [
    {
     "name": "stdout",
     "output_type": "stream",
     "text": [
      "Accuracy of the SVC model: 0.7647058823529411\n"
     ]
    }
   ],
   "source": [
    "df = pd.read_csv(\"data/fetal_health_data.csv\", header = 0)\n",
    "\n",
    "sampled_df = df.sample(frac=0.04)\n",
    "\n",
    "sampled_df.drop_duplicates(inplace=True)\n",
    "\n",
    "X = sampled_df.drop(\"fetal_health\", axis=1)\n",
    "y = sampled_df[\"fetal_health\"]\n",
    "\n",
    "accuracy_fetal_health, y_pred_fetal_health, y_test_fetal_health = classic_SVC(X, y)\n",
    "print(f\"Accuracy of the SVC model: {accuracy_fetal_health}\")\n",
    "\n",
    "accuracy_fetal_health_quantum_svc, y_fetal_health_pred_quantum_svc, y_fetal_health_test_quantum_svc = quantum_SVC(X, y)\n",
    "print(f\"Accuracy of the Quantum SVC model: {accuracy_fetal_health_quantum_svc}\")"
   ]
  },
  {
   "cell_type": "code",
   "execution_count": null,
   "metadata": {},
   "outputs": [],
   "source": [
    "import matplotlib.pyplot as plt\n",
    "import seaborn as sns\n",
    "from sklearn.metrics import confusion_matrix\n",
    "\n",
    "# Create confusion matrices\n",
    "cm_classical = confusion_matrix(y_test_fetal_health, y_pred_fetal_health)\n",
    "cm_quantum = confusion_matrix(y_fetal_health_test_quantum_svc, y_fetal_health_pred_quantum_svc)\n",
    "\n",
    "# Plot confusion matrices\n",
    "plt.figure(figsize=(12, 5))\n",
    "\n",
    "plt.subplot(1, 2, 1)\n",
    "sns.heatmap(cm_classical, annot=True, fmt='d', cmap='Blues', cbar=False)\n",
    "plt.title('Classical SVC Confusion Matrix')\n",
    "\n",
    "plt.subplot(1, 2, 2)\n",
    "sns.heatmap(cm_quantum, annot=True, fmt='d', cmap='Blues', cbar=False)\n",
    "plt.title('Quantum SVC Confusion Matrix')\n",
    "\n",
    "plt.show()"
   ]
  },
  {
   "cell_type": "code",
   "execution_count": 5,
   "id": "54d787c9",
   "metadata": {
    "tags": []
   },
   "outputs": [
    {
     "name": "stdout",
     "output_type": "stream",
     "text": [
      "Accuracy of the SVC model: 0.6666666666666666\n"
     ]
    },
    {
     "ename": "TypeError",
     "evalue": "Invalid parameter values, expected Sequence[Sequence[float]].",
     "output_type": "error",
     "traceback": [
      "\u001b[0;31m---------------------------------------------------------------------------\u001b[0m",
      "\u001b[0;31mTypeError\u001b[0m                                 Traceback (most recent call last)",
      "\u001b[1;32m/home/josermf/Insper/8oSemestre/quantum/quantumML/Project_JoseFerandes_ThiagoRocha.ipynb Cell 8\u001b[0m line \u001b[0;36m2\n\u001b[1;32m     <a href='vscode-notebook-cell:/home/josermf/Insper/8oSemestre/quantum/quantumML/Project_JoseFerandes_ThiagoRocha.ipynb#X15sZmlsZQ%3D%3D?line=16'>17</a>\u001b[0m accuracy_credit_card, y_pred_credit_card \u001b[39m=\u001b[39m classic_SVC(X, y)\n\u001b[1;32m     <a href='vscode-notebook-cell:/home/josermf/Insper/8oSemestre/quantum/quantumML/Project_JoseFerandes_ThiagoRocha.ipynb#X15sZmlsZQ%3D%3D?line=17'>18</a>\u001b[0m \u001b[39mprint\u001b[39m(\u001b[39mf\u001b[39m\u001b[39m\"\u001b[39m\u001b[39mAccuracy of the SVC model: \u001b[39m\u001b[39m{\u001b[39;00maccuracy_credit_card\u001b[39m}\u001b[39;00m\u001b[39m\"\u001b[39m)\n\u001b[0;32m---> <a href='vscode-notebook-cell:/home/josermf/Insper/8oSemestre/quantum/quantumML/Project_JoseFerandes_ThiagoRocha.ipynb#X15sZmlsZQ%3D%3D?line=19'>20</a>\u001b[0m accuracy_credit_card_quantum_svc, y_credit_card_pred_quantum_svc \u001b[39m=\u001b[39m quantum_SVC(X, y)\n\u001b[1;32m     <a href='vscode-notebook-cell:/home/josermf/Insper/8oSemestre/quantum/quantumML/Project_JoseFerandes_ThiagoRocha.ipynb#X15sZmlsZQ%3D%3D?line=20'>21</a>\u001b[0m \u001b[39mprint\u001b[39m(\u001b[39mf\u001b[39m\u001b[39m\"\u001b[39m\u001b[39mAccuracy of the Quantum SVC model: \u001b[39m\u001b[39m{\u001b[39;00maccuracy_credit_card_quantum_svc\u001b[39m}\u001b[39;00m\u001b[39m\"\u001b[39m)\n",
      "\u001b[1;32m/home/josermf/Insper/8oSemestre/quantum/quantumML/Project_JoseFerandes_ThiagoRocha.ipynb Cell 8\u001b[0m line \u001b[0;36m1\n\u001b[1;32m     <a href='vscode-notebook-cell:/home/josermf/Insper/8oSemestre/quantum/quantumML/Project_JoseFerandes_ThiagoRocha.ipynb#X15sZmlsZQ%3D%3D?line=13'>14</a>\u001b[0m qsvc_model \u001b[39m=\u001b[39m QSVC(quantum_kernel\u001b[39m=\u001b[39mquantum_kernel)\n\u001b[1;32m     <a href='vscode-notebook-cell:/home/josermf/Insper/8oSemestre/quantum/quantumML/Project_JoseFerandes_ThiagoRocha.ipynb#X15sZmlsZQ%3D%3D?line=15'>16</a>\u001b[0m \u001b[39m# Train the QSVC model\u001b[39;00m\n\u001b[0;32m---> <a href='vscode-notebook-cell:/home/josermf/Insper/8oSemestre/quantum/quantumML/Project_JoseFerandes_ThiagoRocha.ipynb#X15sZmlsZQ%3D%3D?line=16'>17</a>\u001b[0m qsvc_model\u001b[39m.\u001b[39;49mfit(X_train, y_train)\n\u001b[1;32m     <a href='vscode-notebook-cell:/home/josermf/Insper/8oSemestre/quantum/quantumML/Project_JoseFerandes_ThiagoRocha.ipynb#X15sZmlsZQ%3D%3D?line=18'>19</a>\u001b[0m \u001b[39m# Test the model\u001b[39;00m\n\u001b[1;32m     <a href='vscode-notebook-cell:/home/josermf/Insper/8oSemestre/quantum/quantumML/Project_JoseFerandes_ThiagoRocha.ipynb#X15sZmlsZQ%3D%3D?line=19'>20</a>\u001b[0m y_pred \u001b[39m=\u001b[39m qsvc_model\u001b[39m.\u001b[39mpredict(X_test)\n",
      "File \u001b[0;32m~/.local/lib/python3.11/site-packages/sklearn/base.py:1152\u001b[0m, in \u001b[0;36m_fit_context.<locals>.decorator.<locals>.wrapper\u001b[0;34m(estimator, *args, **kwargs)\u001b[0m\n\u001b[1;32m   1145\u001b[0m     estimator\u001b[39m.\u001b[39m_validate_params()\n\u001b[1;32m   1147\u001b[0m \u001b[39mwith\u001b[39;00m config_context(\n\u001b[1;32m   1148\u001b[0m     skip_parameter_validation\u001b[39m=\u001b[39m(\n\u001b[1;32m   1149\u001b[0m         prefer_skip_nested_validation \u001b[39mor\u001b[39;00m global_skip_validation\n\u001b[1;32m   1150\u001b[0m     )\n\u001b[1;32m   1151\u001b[0m ):\n\u001b[0;32m-> 1152\u001b[0m     \u001b[39mreturn\u001b[39;00m fit_method(estimator, \u001b[39m*\u001b[39;49margs, \u001b[39m*\u001b[39;49m\u001b[39m*\u001b[39;49mkwargs)\n",
      "File \u001b[0;32m~/.local/lib/python3.11/site-packages/sklearn/svm/_base.py:250\u001b[0m, in \u001b[0;36mBaseLibSVM.fit\u001b[0;34m(self, X, y, sample_weight)\u001b[0m\n\u001b[1;32m    247\u001b[0m     \u001b[39mprint\u001b[39m(\u001b[39m\"\u001b[39m\u001b[39m[LibSVM]\u001b[39m\u001b[39m\"\u001b[39m, end\u001b[39m=\u001b[39m\u001b[39m\"\u001b[39m\u001b[39m\"\u001b[39m)\n\u001b[1;32m    249\u001b[0m seed \u001b[39m=\u001b[39m rnd\u001b[39m.\u001b[39mrandint(np\u001b[39m.\u001b[39miinfo(\u001b[39m\"\u001b[39m\u001b[39mi\u001b[39m\u001b[39m\"\u001b[39m)\u001b[39m.\u001b[39mmax)\n\u001b[0;32m--> 250\u001b[0m fit(X, y, sample_weight, solver_type, kernel, random_seed\u001b[39m=\u001b[39;49mseed)\n\u001b[1;32m    251\u001b[0m \u001b[39m# see comment on the other call to np.iinfo in this file\u001b[39;00m\n\u001b[1;32m    253\u001b[0m \u001b[39mself\u001b[39m\u001b[39m.\u001b[39mshape_fit_ \u001b[39m=\u001b[39m X\u001b[39m.\u001b[39mshape \u001b[39mif\u001b[39;00m \u001b[39mhasattr\u001b[39m(X, \u001b[39m\"\u001b[39m\u001b[39mshape\u001b[39m\u001b[39m\"\u001b[39m) \u001b[39melse\u001b[39;00m (n_samples,)\n",
      "File \u001b[0;32m~/.local/lib/python3.11/site-packages/sklearn/svm/_base.py:310\u001b[0m, in \u001b[0;36mBaseLibSVM._dense_fit\u001b[0;34m(self, X, y, sample_weight, solver_type, kernel, random_seed)\u001b[0m\n\u001b[1;32m    306\u001b[0m \u001b[39mif\u001b[39;00m \u001b[39mcallable\u001b[39m(\u001b[39mself\u001b[39m\u001b[39m.\u001b[39mkernel):\n\u001b[1;32m    307\u001b[0m     \u001b[39m# you must store a reference to X to compute the kernel in predict\u001b[39;00m\n\u001b[1;32m    308\u001b[0m     \u001b[39m# TODO: add keyword copy to copy on demand\u001b[39;00m\n\u001b[1;32m    309\u001b[0m     \u001b[39mself\u001b[39m\u001b[39m.\u001b[39m__Xfit \u001b[39m=\u001b[39m X\n\u001b[0;32m--> 310\u001b[0m     X \u001b[39m=\u001b[39m \u001b[39mself\u001b[39;49m\u001b[39m.\u001b[39;49m_compute_kernel(X)\n\u001b[1;32m    312\u001b[0m     \u001b[39mif\u001b[39;00m X\u001b[39m.\u001b[39mshape[\u001b[39m0\u001b[39m] \u001b[39m!=\u001b[39m X\u001b[39m.\u001b[39mshape[\u001b[39m1\u001b[39m]:\n\u001b[1;32m    313\u001b[0m         \u001b[39mraise\u001b[39;00m \u001b[39mValueError\u001b[39;00m(\u001b[39m\"\u001b[39m\u001b[39mX.shape[0] should be equal to X.shape[1]\u001b[39m\u001b[39m\"\u001b[39m)\n",
      "File \u001b[0;32m~/.local/lib/python3.11/site-packages/sklearn/svm/_base.py:511\u001b[0m, in \u001b[0;36mBaseLibSVM._compute_kernel\u001b[0;34m(self, X)\u001b[0m\n\u001b[1;32m    507\u001b[0m \u001b[39m\u001b[39m\u001b[39m\"\"\"Return the data transformed by a callable kernel\"\"\"\u001b[39;00m\n\u001b[1;32m    508\u001b[0m \u001b[39mif\u001b[39;00m \u001b[39mcallable\u001b[39m(\u001b[39mself\u001b[39m\u001b[39m.\u001b[39mkernel):\n\u001b[1;32m    509\u001b[0m     \u001b[39m# in the case of precomputed kernel given as a function, we\u001b[39;00m\n\u001b[1;32m    510\u001b[0m     \u001b[39m# have to compute explicitly the kernel matrix\u001b[39;00m\n\u001b[0;32m--> 511\u001b[0m     kernel \u001b[39m=\u001b[39m \u001b[39mself\u001b[39;49m\u001b[39m.\u001b[39;49mkernel(X, \u001b[39mself\u001b[39;49m\u001b[39m.\u001b[39;49m__Xfit)\n\u001b[1;32m    512\u001b[0m     \u001b[39mif\u001b[39;00m sp\u001b[39m.\u001b[39missparse(kernel):\n\u001b[1;32m    513\u001b[0m         kernel \u001b[39m=\u001b[39m kernel\u001b[39m.\u001b[39mtoarray()\n",
      "File \u001b[0;32m~/.local/lib/python3.11/site-packages/qiskit_machine_learning/kernels/fidelity_quantum_kernel.py:106\u001b[0m, in \u001b[0;36mFidelityQuantumKernel.evaluate\u001b[0;34m(self, x_vec, y_vec)\u001b[0m\n\u001b[1;32m    104\u001b[0m \u001b[39mif\u001b[39;00m is_symmetric:\n\u001b[1;32m    105\u001b[0m     left_parameters, right_parameters, indices \u001b[39m=\u001b[39m \u001b[39mself\u001b[39m\u001b[39m.\u001b[39m_get_symmetric_parameterization(x_vec)\n\u001b[0;32m--> 106\u001b[0m     kernel_matrix \u001b[39m=\u001b[39m \u001b[39mself\u001b[39;49m\u001b[39m.\u001b[39;49m_get_symmetric_kernel_matrix(\n\u001b[1;32m    107\u001b[0m         kernel_shape, left_parameters, right_parameters, indices\n\u001b[1;32m    108\u001b[0m     )\n\u001b[1;32m    109\u001b[0m \u001b[39melse\u001b[39;00m:\n\u001b[1;32m    110\u001b[0m     left_parameters, right_parameters, indices \u001b[39m=\u001b[39m \u001b[39mself\u001b[39m\u001b[39m.\u001b[39m_get_parameterization(x_vec, y_vec)\n",
      "File \u001b[0;32m~/.local/lib/python3.11/site-packages/qiskit_machine_learning/kernels/fidelity_quantum_kernel.py:194\u001b[0m, in \u001b[0;36mFidelityQuantumKernel._get_symmetric_kernel_matrix\u001b[0;34m(self, kernel_shape, left_parameters, right_parameters, indices)\u001b[0m\n\u001b[1;32m    184\u001b[0m \u001b[39mdef\u001b[39;00m \u001b[39m_get_symmetric_kernel_matrix\u001b[39m(\n\u001b[1;32m    185\u001b[0m     \u001b[39mself\u001b[39m,\n\u001b[1;32m    186\u001b[0m     kernel_shape: \u001b[39mtuple\u001b[39m[\u001b[39mint\u001b[39m, \u001b[39mint\u001b[39m],\n\u001b[0;32m   (...)\u001b[0m\n\u001b[1;32m    189\u001b[0m     indices: KernelIndices,\n\u001b[1;32m    190\u001b[0m ) \u001b[39m-\u001b[39m\u001b[39m>\u001b[39m np\u001b[39m.\u001b[39mndarray:\n\u001b[1;32m    191\u001b[0m \u001b[39m    \u001b[39m\u001b[39m\"\"\"\u001b[39;00m\n\u001b[1;32m    192\u001b[0m \u001b[39m    Given a set of parameterization, this computes the kernel matrix.\u001b[39;00m\n\u001b[1;32m    193\u001b[0m \u001b[39m    \"\"\"\u001b[39;00m\n\u001b[0;32m--> 194\u001b[0m     kernel_entries \u001b[39m=\u001b[39m \u001b[39mself\u001b[39;49m\u001b[39m.\u001b[39;49m_get_kernel_entries(left_parameters, right_parameters)\n\u001b[1;32m    195\u001b[0m     kernel_matrix \u001b[39m=\u001b[39m np\u001b[39m.\u001b[39mones(kernel_shape)\n\u001b[1;32m    197\u001b[0m     \u001b[39mfor\u001b[39;00m i, (col, row) \u001b[39min\u001b[39;00m \u001b[39menumerate\u001b[39m(indices):\n",
      "File \u001b[0;32m~/.local/lib/python3.11/site-packages/qiskit_machine_learning/kernels/fidelity_quantum_kernel.py:218\u001b[0m, in \u001b[0;36mFidelityQuantumKernel._get_kernel_entries\u001b[0;34m(self, left_parameters, right_parameters)\u001b[0m\n\u001b[1;32m    211\u001b[0m \u001b[39mif\u001b[39;00m num_circuits \u001b[39m!=\u001b[39m \u001b[39m0\u001b[39m:\n\u001b[1;32m    212\u001b[0m     job \u001b[39m=\u001b[39m \u001b[39mself\u001b[39m\u001b[39m.\u001b[39m_fidelity\u001b[39m.\u001b[39mrun(\n\u001b[1;32m    213\u001b[0m         [\u001b[39mself\u001b[39m\u001b[39m.\u001b[39m_feature_map] \u001b[39m*\u001b[39m num_circuits,\n\u001b[1;32m    214\u001b[0m         [\u001b[39mself\u001b[39m\u001b[39m.\u001b[39m_feature_map] \u001b[39m*\u001b[39m num_circuits,\n\u001b[1;32m    215\u001b[0m         left_parameters,\n\u001b[1;32m    216\u001b[0m         right_parameters,\n\u001b[1;32m    217\u001b[0m     )\n\u001b[0;32m--> 218\u001b[0m     kernel_entries \u001b[39m=\u001b[39m job\u001b[39m.\u001b[39;49mresult()\u001b[39m.\u001b[39mfidelities\n\u001b[1;32m    219\u001b[0m \u001b[39melse\u001b[39;00m:\n\u001b[1;32m    220\u001b[0m     \u001b[39m# trivial case, only identical samples\u001b[39;00m\n\u001b[1;32m    221\u001b[0m     kernel_entries \u001b[39m=\u001b[39m []\n",
      "File \u001b[0;32m~/.local/lib/python3.11/site-packages/qiskit/primitives/primitive_job.py:55\u001b[0m, in \u001b[0;36mPrimitiveJob.result\u001b[0;34m(self)\u001b[0m\n\u001b[1;32m     53\u001b[0m \u001b[39m\u001b[39m\u001b[39m\"\"\"Return the results of the job.\"\"\"\u001b[39;00m\n\u001b[1;32m     54\u001b[0m \u001b[39mself\u001b[39m\u001b[39m.\u001b[39m_check_submitted()\n\u001b[0;32m---> 55\u001b[0m \u001b[39mreturn\u001b[39;00m \u001b[39mself\u001b[39;49m\u001b[39m.\u001b[39;49m_future\u001b[39m.\u001b[39;49mresult()\n",
      "File \u001b[0;32m/usr/lib64/python3.11/concurrent/futures/_base.py:456\u001b[0m, in \u001b[0;36mFuture.result\u001b[0;34m(self, timeout)\u001b[0m\n\u001b[1;32m    454\u001b[0m     \u001b[39mraise\u001b[39;00m CancelledError()\n\u001b[1;32m    455\u001b[0m \u001b[39melif\u001b[39;00m \u001b[39mself\u001b[39m\u001b[39m.\u001b[39m_state \u001b[39m==\u001b[39m FINISHED:\n\u001b[0;32m--> 456\u001b[0m     \u001b[39mreturn\u001b[39;00m \u001b[39mself\u001b[39;49m\u001b[39m.\u001b[39;49m__get_result()\n\u001b[1;32m    457\u001b[0m \u001b[39melse\u001b[39;00m:\n\u001b[1;32m    458\u001b[0m     \u001b[39mraise\u001b[39;00m \u001b[39mTimeoutError\u001b[39;00m()\n",
      "File \u001b[0;32m/usr/lib64/python3.11/concurrent/futures/_base.py:401\u001b[0m, in \u001b[0;36mFuture.__get_result\u001b[0;34m(self)\u001b[0m\n\u001b[1;32m    399\u001b[0m \u001b[39mif\u001b[39;00m \u001b[39mself\u001b[39m\u001b[39m.\u001b[39m_exception:\n\u001b[1;32m    400\u001b[0m     \u001b[39mtry\u001b[39;00m:\n\u001b[0;32m--> 401\u001b[0m         \u001b[39mraise\u001b[39;00m \u001b[39mself\u001b[39m\u001b[39m.\u001b[39m_exception\n\u001b[1;32m    402\u001b[0m     \u001b[39mfinally\u001b[39;00m:\n\u001b[1;32m    403\u001b[0m         \u001b[39m# Break a reference cycle with the exception in self._exception\u001b[39;00m\n\u001b[1;32m    404\u001b[0m         \u001b[39mself\u001b[39m \u001b[39m=\u001b[39m \u001b[39mNone\u001b[39;00m\n",
      "File \u001b[0;32m/usr/lib64/python3.11/concurrent/futures/thread.py:58\u001b[0m, in \u001b[0;36m_WorkItem.run\u001b[0;34m(self)\u001b[0m\n\u001b[1;32m     55\u001b[0m     \u001b[39mreturn\u001b[39;00m\n\u001b[1;32m     57\u001b[0m \u001b[39mtry\u001b[39;00m:\n\u001b[0;32m---> 58\u001b[0m     result \u001b[39m=\u001b[39m \u001b[39mself\u001b[39;49m\u001b[39m.\u001b[39;49mfn(\u001b[39m*\u001b[39;49m\u001b[39mself\u001b[39;49m\u001b[39m.\u001b[39;49margs, \u001b[39m*\u001b[39;49m\u001b[39m*\u001b[39;49m\u001b[39mself\u001b[39;49m\u001b[39m.\u001b[39;49mkwargs)\n\u001b[1;32m     59\u001b[0m \u001b[39mexcept\u001b[39;00m \u001b[39mBaseException\u001b[39;00m \u001b[39mas\u001b[39;00m exc:\n\u001b[1;32m     60\u001b[0m     \u001b[39mself\u001b[39m\u001b[39m.\u001b[39mfuture\u001b[39m.\u001b[39mset_exception(exc)\n",
      "File \u001b[0;32m~/.local/lib/python3.11/site-packages/qiskit_algorithms/state_fidelities/compute_uncompute.py:158\u001b[0m, in \u001b[0;36mComputeUncompute._run\u001b[0;34m(self, circuits_1, circuits_2, values_1, values_2, **options)\u001b[0m\n\u001b[1;32m    155\u001b[0m opts \u001b[39m=\u001b[39m copy(\u001b[39mself\u001b[39m\u001b[39m.\u001b[39m_default_options)\n\u001b[1;32m    156\u001b[0m opts\u001b[39m.\u001b[39mupdate_options(\u001b[39m*\u001b[39m\u001b[39m*\u001b[39moptions)\n\u001b[0;32m--> 158\u001b[0m job \u001b[39m=\u001b[39m \u001b[39mself\u001b[39;49m\u001b[39m.\u001b[39;49m_sampler\u001b[39m.\u001b[39;49mrun(circuits\u001b[39m=\u001b[39;49mcircuits, parameter_values\u001b[39m=\u001b[39;49mvalues, \u001b[39m*\u001b[39;49m\u001b[39m*\u001b[39;49mopts\u001b[39m.\u001b[39;49m\u001b[39m__dict__\u001b[39;49m)\n\u001b[1;32m    160\u001b[0m \u001b[39mtry\u001b[39;00m:\n\u001b[1;32m    161\u001b[0m     result \u001b[39m=\u001b[39m job\u001b[39m.\u001b[39mresult()\n",
      "File \u001b[0;32m~/.local/lib/python3.11/site-packages/qiskit/primitives/base/base_sampler.py:135\u001b[0m, in \u001b[0;36mBaseSampler.run\u001b[0;34m(self, circuits, parameter_values, **run_options)\u001b[0m\n\u001b[1;32m    133\u001b[0m \u001b[39m# Singular validation\u001b[39;00m\n\u001b[1;32m    134\u001b[0m circuits \u001b[39m=\u001b[39m \u001b[39mself\u001b[39m\u001b[39m.\u001b[39m_validate_circuits(circuits)\n\u001b[0;32m--> 135\u001b[0m parameter_values \u001b[39m=\u001b[39m \u001b[39mself\u001b[39;49m\u001b[39m.\u001b[39;49m_validate_parameter_values(\n\u001b[1;32m    136\u001b[0m     parameter_values,\n\u001b[1;32m    137\u001b[0m     default\u001b[39m=\u001b[39;49m[()] \u001b[39m*\u001b[39;49m \u001b[39mlen\u001b[39;49m(circuits),\n\u001b[1;32m    138\u001b[0m )\n\u001b[1;32m    140\u001b[0m \u001b[39m# Cross-validation\u001b[39;00m\n\u001b[1;32m    141\u001b[0m \u001b[39mself\u001b[39m\u001b[39m.\u001b[39m_cross_validate_circuits_parameter_values(circuits, parameter_values)\n",
      "File \u001b[0;32m~/.local/lib/python3.11/site-packages/qiskit/primitives/base/base_primitive.py:101\u001b[0m, in \u001b[0;36mBasePrimitive._validate_parameter_values\u001b[0;34m(parameter_values, default)\u001b[0m\n\u001b[1;32m     95\u001b[0m \u001b[39m# Validation\u001b[39;00m\n\u001b[1;32m     96\u001b[0m \u001b[39mif\u001b[39;00m (\n\u001b[1;32m     97\u001b[0m     \u001b[39mnot\u001b[39;00m \u001b[39misinstance\u001b[39m(parameter_values, Sequence)\n\u001b[1;32m     98\u001b[0m     \u001b[39mor\u001b[39;00m \u001b[39mnot\u001b[39;00m \u001b[39mall\u001b[39m(\u001b[39misinstance\u001b[39m(vector, Sequence) \u001b[39mfor\u001b[39;00m vector \u001b[39min\u001b[39;00m parameter_values)\n\u001b[1;32m     99\u001b[0m     \u001b[39mor\u001b[39;00m \u001b[39mnot\u001b[39;00m \u001b[39mall\u001b[39m(\u001b[39mall\u001b[39m(_isreal(value) \u001b[39mfor\u001b[39;00m value \u001b[39min\u001b[39;00m vector) \u001b[39mfor\u001b[39;00m vector \u001b[39min\u001b[39;00m parameter_values)\n\u001b[1;32m    100\u001b[0m ):\n\u001b[0;32m--> 101\u001b[0m     \u001b[39mraise\u001b[39;00m \u001b[39mTypeError\u001b[39;00m(\u001b[39m\"\u001b[39m\u001b[39mInvalid parameter values, expected Sequence[Sequence[float]].\u001b[39m\u001b[39m\"\u001b[39m)\n\u001b[1;32m    103\u001b[0m \u001b[39mreturn\u001b[39;00m \u001b[39mtuple\u001b[39m(\u001b[39mtuple\u001b[39m(\u001b[39mfloat\u001b[39m(value) \u001b[39mfor\u001b[39;00m value \u001b[39min\u001b[39;00m vector) \u001b[39mfor\u001b[39;00m vector \u001b[39min\u001b[39;00m parameter_values)\n",
      "\u001b[0;31mTypeError\u001b[0m: Invalid parameter values, expected Sequence[Sequence[float]]."
     ]
    }
   ],
   "source": [
    "df = pd.read_csv(\"data/credit_card.csv\", header = 0)\n",
    "y = pd.read_csv(\"data/credit_card_label.csv\", header = 0)\n",
    "\n",
    "df = df.dropna()\n",
    "\n",
    "df = df.drop(['Housing_type', 'Type_Occupation', 'Type_Income'], axis = 1)\n",
    "\n",
    "df_encoded = pd.get_dummies(df, columns=['GENDER', 'Car_Owner', 'Propert_Owner', 'EDUCATION', 'Marital_status'])\n",
    "\n",
    "df_encoded = pd.merge(df_encoded, y, on='Ind_ID', how='inner')\n",
    "\n",
    "sampled_df = df_encoded.sample(frac=0.04)\n",
    "\n",
    "X = sampled_df.drop(\"label\", axis=1)\n",
    "y = sampled_df[\"label\"]\n",
    "\n",
    "accuracy_credit_card, y_pred_credit_card, y_test_credit_card = classic_SVC(X, y)\n",
    "print(f\"Accuracy of the SVC model: {accuracy_credit_card}\")\n",
    "\n",
    "accuracy_credit_card_quantum_svc, y_credit_card_pred_quantum_svc, y_credit_card_test_quantum_svc = quantum_SVC(X, y)\n",
    "print(f\"Accuracy of the Quantum SVC model: {accuracy_credit_card_quantum_svc}\")"
   ]
  },
  {
   "cell_type": "code",
   "execution_count": null,
   "metadata": {},
   "outputs": [],
   "source": [
    "import matplotlib.pyplot as plt\n",
    "import seaborn as sns\n",
    "from sklearn.metrics import confusion_matrix\n",
    "\n",
    "# Create confusion matrices\n",
    "cm_classical = confusion_matrix(y_test_credit_card, y_pred_credit_card)\n",
    "cm_quantum = confusion_matrix(y_credit_card_test_quantum_svc, y_credit_card_pred_quantum_svc)\n",
    "\n",
    "# Plot confusion matrices\n",
    "plt.figure(figsize=(12, 5))\n",
    "\n",
    "plt.subplot(1, 2, 1)\n",
    "sns.heatmap(cm_classical, annot=True, fmt='d', cmap='Blues', cbar=False)\n",
    "plt.title('Classical SVC Confusion Matrix')\n",
    "\n",
    "plt.subplot(1, 2, 2)\n",
    "sns.heatmap(cm_quantum, annot=True, fmt='d', cmap='Blues', cbar=False)\n",
    "plt.title('Quantum SVC Confusion Matrix')\n",
    "\n",
    "plt.show()"
   ]
  }
 ],
 "metadata": {
  "kernelspec": {
   "display_name": "Python 3 (ipykernel)",
   "language": "python",
   "name": "python3"
  },
  "language_info": {
   "codemirror_mode": {
    "name": "ipython",
    "version": 3
   },
   "file_extension": ".py",
   "mimetype": "text/x-python",
   "name": "python",
   "nbconvert_exporter": "python",
   "pygments_lexer": "ipython3",
   "version": "3.11.6"
  },
  "widgets": {
   "application/vnd.jupyter.widget-state+json": {
    "state": {},
    "version_major": 2,
    "version_minor": 0
   }
  }
 },
 "nbformat": 4,
 "nbformat_minor": 5
}
