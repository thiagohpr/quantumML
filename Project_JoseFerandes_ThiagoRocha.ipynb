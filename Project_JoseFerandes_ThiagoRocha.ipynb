{
 "cells": [
  {
   "cell_type": "markdown",
   "id": "dfb03fb1-db76-44f1-9b79-d858d44a6792",
   "metadata": {},
   "source": [
    "# Projeto - Introdução à Computação Quântica\n",
    "\n",
    "### Desenvolvedores:\n",
    "* José Rafael Martins Fernandes\n",
    "* Thiago Hampl Pierri da Rocha\n",
    "\n",
    "## Introdução\n",
    "\n",
    "Os *kernel algorithms* desempenham um papel crucial em *machine learning*, permitindo a transformação de dados complexos em espaços de alta dimensão, tornando possível a resolução de problemas não linearmente separáveis. No entanto, o desenvolvimento destes algoritmos utilizando a computação clássica enfrenta desafios significativos quando se trata de lidar com grandes conjuntos de dados e tarefas complexas de *machine learning*. Dessa forma, a computação quântica pode ser uma utilizada como uma maneira de tentar melhorar o desempenho destes algoritmos. Assim, vamos analisar uma pesquisa recente que investiga a interseção entre os s *kernel algorithms* e a computação quântica, com um foco especial na avaliação das possíveis vantagens dos modelos quânticos em tarefas de aprendizado. \n",
    "\n",
    "## Revisão do Artigo\n",
    "\n",
    "No artigo *Power of data in quantum machine learning*, os autores exploram o campo da computação quântica para *machine learning* e buscam avaliar as possíveis vantagens de modelos quânticos em tarefas de aprendizado. Eles começam enfatizando que tarefas de aprendizado de máquina que envolvem dados podem ser significativamente diferentes de outras tarefas computacionais comumente estudadas no domínio da computação quântica. Apesar dessa diferença, os autores demonstram que modelos clássicos de aprendizado de máquina, quando fornecidos com dados, podem competir com modelos quânticos, mesmo em situações em que a complexidade computacional é alta para a computação clássica.\n",
    "\n",
    "Para avaliar as possíveis vantagens de modelos quânticos em tarefas de aprendizado, os autores introduzem o conceito de uma diferença geométrica, que mede a dissimilaridade entre modelos de *machine learning* clássicos e quânticos com base em suas medidas de similaridade. Eles demonstram como essa diferença geométrica pode ser calculada e usada como uma ferramenta para avaliar o potencial de vantagem quântica na previsão. Se a diferença geométrica for pequena, espera-se que os modelos clássicos de aprendizado de máquina forneçam um desempenho semelhante ou até superior aos modelos quânticos, independentemente dos valores ou rótulos de funções específicas. Por outro lado, uma grande diferença geométrica indica o potencial de uma vantagem quântica.\n",
    "\n",
    "Assim, os autores realizam experimentos numéricos em conjuntos de dados projetados. Os resultados mostram que os modelos clássicos podem superar os modelos quânticos quando a diferença geométrica é pequena. No entanto, os autores também demonstram que um modelo quântico projetado pode apresentar uma significativa vantagem de previsão sobre os modelos clássicos quando a diferença geométrica é grande. Os experimentos destacam o papel dos dados na determinação das vantagens dos modelos de aprendizado de máquina quântica e enfatizam o potencial dos modelos quânticos projetados em fornecer um aumento na velocidade quântica em tarefas de aprendizado específicas.\n",
    "\n",
    "## Nosso projeto\n",
    "\n",
    "O objetivo do projeto consiste em empregar os experimentos mencionados no artigo a fim de verificar ou refutar as conclusões relativas às previsões entre os modelos clássicos e quânticos. Uma vez que o referido artigo aborda as condições que favorecem cada um desses modelos com base na geometria dos dados, planejamos aplicar tanto Kernels Clássicos quanto Quantum Kernels para avaliar tais vantagens, enquanto também examinamos a capacidade de previsão dos modelos quânticos em situações com diferenças significativas na geometria dos dados. Além disso, pretendemos realizar testes em múltiplas bases de dados, a fim de compreender a variabilidade dos resultados e demonstrar o impacto da estrutura dos dados nas conclusões do artigo.\n",
    "\n",
    "## Problema\n",
    "\n",
    "O principal desafio que enfrentamos no âmbito deste projeto reside na árdua tarefa de conduzir uma pesquisa para identificar e selecionar as bases de dados mais apropriadas que possam ser empregadas nas Provas de Conceito delineadas no artigo. Adicionalmente, nosso empenho se estende à aplicação de modelos tanto clássicos quanto quânticos, fazendo uso das bibliotecas que dão suporte a esses modelos, notadamente o scikit-learn e o Qiskit, a fim de alcançar resultados robustos e conclusivos em nossa análise.\n",
    "\n",
    "## Referências\n",
    "* https://www.nature.com/articles/s41467-021-22539-9\n",
    "* https://qiskit.org/ecosystem/machine-learning/tutorials/03_quantum_kernel.html\n",
    "* https://qiskit.org/ecosystem/machine-learning/tutorials/08_quantum_kernel_trainer.html"
   ]
  },
  {
   "cell_type": "code",
   "execution_count": 2,
   "metadata": {},
   "outputs": [],
   "source": [
    "import pandas as pd\n",
    "\n",
    "from sklearn.model_selection import train_test_split\n",
    "from sklearn.svm import SVC\n",
    "from sklearn.metrics import accuracy_score\n",
    "from sklearn.model_selection import train_test_split\n",
    "\n",
    "from qiskit_machine_learning.algorithms import QSVC\n",
    "from qiskit_machine_learning.kernels import FidelityQuantumKernel\n",
    "from qiskit.primitives import Sampler\n",
    "from qiskit_algorithms.state_fidelities import ComputeUncompute\n",
    "from qiskit import Aer\n",
    "from qiskit.circuit.library import ZZFeatureMap"
   ]
  },
  {
   "cell_type": "code",
   "execution_count": 3,
   "metadata": {},
   "outputs": [],
   "source": [
    "def classic_SVC(X, y, test_size=0.2, random_state=42):\n",
    "    # Split the data into train and test sets\n",
    "    X_train, X_test, y_train, y_test = train_test_split(X, y, test_size=test_size, random_state=random_state)\n",
    "\n",
    "    # Create an SVC model\n",
    "    svc_model = SVC(kernel='linear', random_state=random_state)\n",
    "\n",
    "    # Train the model\n",
    "    svc_model.fit(X_train, y_train)\n",
    "\n",
    "    # Make predictions on the test set\n",
    "    y_pred = svc_model.predict(X_test)\n",
    "\n",
    "    # Calculate accuracy\n",
    "    accuracy = accuracy_score(y_test, y_pred)\n",
    "\n",
    "    return accuracy, y_pred\n"
   ]
  },
  {
   "cell_type": "code",
   "execution_count": 4,
   "metadata": {},
   "outputs": [],
   "source": [
    "def quantum_SVC(X, y, test_size=0.2, random_state=42):\n",
    "    # Split the data into train and test sets\n",
    "    X_train, X_test, y_train, y_test = train_test_split(X, y, test_size=test_size, random_state=random_state)\n",
    "\n",
    "    feature_map = ZZFeatureMap(feature_dimension=len(X.columns), reps=2, entanglement=\"linear\")\n",
    "\n",
    "    sampler = Sampler()\n",
    "\n",
    "    fidelity = ComputeUncompute(sampler=sampler)\n",
    "\n",
    "    quantum_kernel = FidelityQuantumKernel(fidelity=fidelity, feature_map=feature_map)\n",
    "\n",
    "    # Create the QSVC model\n",
    "    qsvc_model = QSVC(quantum_kernel=quantum_kernel)\n",
    "    \n",
    "    # Train the QSVC model\n",
    "    qsvc_model.fit(X_train, y_train)\n",
    "\n",
    "    # Test the model\n",
    "    y_pred = qsvc_model.predict(X_test)\n",
    "\n",
    "    # Calculate accuracy\n",
    "    accuracy = accuracy_score(y_test, y_pred)\n",
    "\n",
    "    return accuracy, y_pred"
   ]
  },
  {
   "cell_type": "code",
   "execution_count": 5,
   "metadata": {},
   "outputs": [
    {
     "name": "stdout",
     "output_type": "stream",
     "text": [
      "Accuracy of the SVC model: 0.900709219858156\n"
     ]
    },
    {
     "ename": "KeyboardInterrupt",
     "evalue": "",
     "output_type": "error",
     "traceback": [
      "\u001b[0;31m---------------------------------------------------------------------------\u001b[0m",
      "\u001b[0;31mKeyboardInterrupt\u001b[0m                         Traceback (most recent call last)",
      "\u001b[1;32m/home/josermf/Insper/8oSemestre/quantum/quantumML/Project_JoseFerandes_ThiagoRocha.ipynb Cell 5\u001b[0m line \u001b[0;36m1\n\u001b[1;32m      <a href='vscode-notebook-cell:/home/josermf/Insper/8oSemestre/quantum/quantumML/Project_JoseFerandes_ThiagoRocha.ipynb#W6sZmlsZQ%3D%3D?line=7'>8</a>\u001b[0m accuracy_fetal_health, y_pred_fetal_health \u001b[39m=\u001b[39m classic_SVC(X, y)\n\u001b[1;32m      <a href='vscode-notebook-cell:/home/josermf/Insper/8oSemestre/quantum/quantumML/Project_JoseFerandes_ThiagoRocha.ipynb#W6sZmlsZQ%3D%3D?line=8'>9</a>\u001b[0m \u001b[39mprint\u001b[39m(\u001b[39mf\u001b[39m\u001b[39m\"\u001b[39m\u001b[39mAccuracy of the SVC model: \u001b[39m\u001b[39m{\u001b[39;00maccuracy_fetal_health\u001b[39m}\u001b[39;00m\u001b[39m\"\u001b[39m)\n\u001b[0;32m---> <a href='vscode-notebook-cell:/home/josermf/Insper/8oSemestre/quantum/quantumML/Project_JoseFerandes_ThiagoRocha.ipynb#W6sZmlsZQ%3D%3D?line=10'>11</a>\u001b[0m accuracy_fetal_health_quantum_svc, y_fetal_health_pred_quantum_svc \u001b[39m=\u001b[39m quantum_SVC(X, y)\n\u001b[1;32m     <a href='vscode-notebook-cell:/home/josermf/Insper/8oSemestre/quantum/quantumML/Project_JoseFerandes_ThiagoRocha.ipynb#W6sZmlsZQ%3D%3D?line=11'>12</a>\u001b[0m \u001b[39mprint\u001b[39m(\u001b[39mf\u001b[39m\u001b[39m\"\u001b[39m\u001b[39mAccuracy of the Quantum SVC model: \u001b[39m\u001b[39m{\u001b[39;00maccuracy_fetal_health_quantum_svc\u001b[39m}\u001b[39;00m\u001b[39m\"\u001b[39m)\n",
      "\u001b[1;32m/home/josermf/Insper/8oSemestre/quantum/quantumML/Project_JoseFerandes_ThiagoRocha.ipynb Cell 5\u001b[0m line \u001b[0;36m1\n\u001b[1;32m     <a href='vscode-notebook-cell:/home/josermf/Insper/8oSemestre/quantum/quantumML/Project_JoseFerandes_ThiagoRocha.ipynb#W6sZmlsZQ%3D%3D?line=13'>14</a>\u001b[0m qsvc_model \u001b[39m=\u001b[39m QSVC(quantum_kernel\u001b[39m=\u001b[39mquantum_kernel)\n\u001b[1;32m     <a href='vscode-notebook-cell:/home/josermf/Insper/8oSemestre/quantum/quantumML/Project_JoseFerandes_ThiagoRocha.ipynb#W6sZmlsZQ%3D%3D?line=15'>16</a>\u001b[0m \u001b[39m# Train the QSVC model\u001b[39;00m\n\u001b[0;32m---> <a href='vscode-notebook-cell:/home/josermf/Insper/8oSemestre/quantum/quantumML/Project_JoseFerandes_ThiagoRocha.ipynb#W6sZmlsZQ%3D%3D?line=16'>17</a>\u001b[0m qsvc_model\u001b[39m.\u001b[39;49mfit(X_train, y_train)\n\u001b[1;32m     <a href='vscode-notebook-cell:/home/josermf/Insper/8oSemestre/quantum/quantumML/Project_JoseFerandes_ThiagoRocha.ipynb#W6sZmlsZQ%3D%3D?line=18'>19</a>\u001b[0m \u001b[39m# Test the model\u001b[39;00m\n\u001b[1;32m     <a href='vscode-notebook-cell:/home/josermf/Insper/8oSemestre/quantum/quantumML/Project_JoseFerandes_ThiagoRocha.ipynb#W6sZmlsZQ%3D%3D?line=19'>20</a>\u001b[0m y_pred \u001b[39m=\u001b[39m qsvc_model\u001b[39m.\u001b[39mpredict(X_test)\n",
      "File \u001b[0;32m~/.local/lib/python3.11/site-packages/sklearn/base.py:1152\u001b[0m, in \u001b[0;36m_fit_context.<locals>.decorator.<locals>.wrapper\u001b[0;34m(estimator, *args, **kwargs)\u001b[0m\n\u001b[1;32m   1145\u001b[0m     estimator\u001b[39m.\u001b[39m_validate_params()\n\u001b[1;32m   1147\u001b[0m \u001b[39mwith\u001b[39;00m config_context(\n\u001b[1;32m   1148\u001b[0m     skip_parameter_validation\u001b[39m=\u001b[39m(\n\u001b[1;32m   1149\u001b[0m         prefer_skip_nested_validation \u001b[39mor\u001b[39;00m global_skip_validation\n\u001b[1;32m   1150\u001b[0m     )\n\u001b[1;32m   1151\u001b[0m ):\n\u001b[0;32m-> 1152\u001b[0m     \u001b[39mreturn\u001b[39;00m fit_method(estimator, \u001b[39m*\u001b[39;49margs, \u001b[39m*\u001b[39;49m\u001b[39m*\u001b[39;49mkwargs)\n",
      "File \u001b[0;32m~/.local/lib/python3.11/site-packages/sklearn/svm/_base.py:250\u001b[0m, in \u001b[0;36mBaseLibSVM.fit\u001b[0;34m(self, X, y, sample_weight)\u001b[0m\n\u001b[1;32m    247\u001b[0m     \u001b[39mprint\u001b[39m(\u001b[39m\"\u001b[39m\u001b[39m[LibSVM]\u001b[39m\u001b[39m\"\u001b[39m, end\u001b[39m=\u001b[39m\u001b[39m\"\u001b[39m\u001b[39m\"\u001b[39m)\n\u001b[1;32m    249\u001b[0m seed \u001b[39m=\u001b[39m rnd\u001b[39m.\u001b[39mrandint(np\u001b[39m.\u001b[39miinfo(\u001b[39m\"\u001b[39m\u001b[39mi\u001b[39m\u001b[39m\"\u001b[39m)\u001b[39m.\u001b[39mmax)\n\u001b[0;32m--> 250\u001b[0m fit(X, y, sample_weight, solver_type, kernel, random_seed\u001b[39m=\u001b[39;49mseed)\n\u001b[1;32m    251\u001b[0m \u001b[39m# see comment on the other call to np.iinfo in this file\u001b[39;00m\n\u001b[1;32m    253\u001b[0m \u001b[39mself\u001b[39m\u001b[39m.\u001b[39mshape_fit_ \u001b[39m=\u001b[39m X\u001b[39m.\u001b[39mshape \u001b[39mif\u001b[39;00m \u001b[39mhasattr\u001b[39m(X, \u001b[39m\"\u001b[39m\u001b[39mshape\u001b[39m\u001b[39m\"\u001b[39m) \u001b[39melse\u001b[39;00m (n_samples,)\n",
      "File \u001b[0;32m~/.local/lib/python3.11/site-packages/sklearn/svm/_base.py:310\u001b[0m, in \u001b[0;36mBaseLibSVM._dense_fit\u001b[0;34m(self, X, y, sample_weight, solver_type, kernel, random_seed)\u001b[0m\n\u001b[1;32m    306\u001b[0m \u001b[39mif\u001b[39;00m \u001b[39mcallable\u001b[39m(\u001b[39mself\u001b[39m\u001b[39m.\u001b[39mkernel):\n\u001b[1;32m    307\u001b[0m     \u001b[39m# you must store a reference to X to compute the kernel in predict\u001b[39;00m\n\u001b[1;32m    308\u001b[0m     \u001b[39m# TODO: add keyword copy to copy on demand\u001b[39;00m\n\u001b[1;32m    309\u001b[0m     \u001b[39mself\u001b[39m\u001b[39m.\u001b[39m__Xfit \u001b[39m=\u001b[39m X\n\u001b[0;32m--> 310\u001b[0m     X \u001b[39m=\u001b[39m \u001b[39mself\u001b[39;49m\u001b[39m.\u001b[39;49m_compute_kernel(X)\n\u001b[1;32m    312\u001b[0m     \u001b[39mif\u001b[39;00m X\u001b[39m.\u001b[39mshape[\u001b[39m0\u001b[39m] \u001b[39m!=\u001b[39m X\u001b[39m.\u001b[39mshape[\u001b[39m1\u001b[39m]:\n\u001b[1;32m    313\u001b[0m         \u001b[39mraise\u001b[39;00m \u001b[39mValueError\u001b[39;00m(\u001b[39m\"\u001b[39m\u001b[39mX.shape[0] should be equal to X.shape[1]\u001b[39m\u001b[39m\"\u001b[39m)\n",
      "File \u001b[0;32m~/.local/lib/python3.11/site-packages/sklearn/svm/_base.py:511\u001b[0m, in \u001b[0;36mBaseLibSVM._compute_kernel\u001b[0;34m(self, X)\u001b[0m\n\u001b[1;32m    507\u001b[0m \u001b[39m\u001b[39m\u001b[39m\"\"\"Return the data transformed by a callable kernel\"\"\"\u001b[39;00m\n\u001b[1;32m    508\u001b[0m \u001b[39mif\u001b[39;00m \u001b[39mcallable\u001b[39m(\u001b[39mself\u001b[39m\u001b[39m.\u001b[39mkernel):\n\u001b[1;32m    509\u001b[0m     \u001b[39m# in the case of precomputed kernel given as a function, we\u001b[39;00m\n\u001b[1;32m    510\u001b[0m     \u001b[39m# have to compute explicitly the kernel matrix\u001b[39;00m\n\u001b[0;32m--> 511\u001b[0m     kernel \u001b[39m=\u001b[39m \u001b[39mself\u001b[39;49m\u001b[39m.\u001b[39;49mkernel(X, \u001b[39mself\u001b[39;49m\u001b[39m.\u001b[39;49m__Xfit)\n\u001b[1;32m    512\u001b[0m     \u001b[39mif\u001b[39;00m sp\u001b[39m.\u001b[39missparse(kernel):\n\u001b[1;32m    513\u001b[0m         kernel \u001b[39m=\u001b[39m kernel\u001b[39m.\u001b[39mtoarray()\n",
      "File \u001b[0;32m~/.local/lib/python3.11/site-packages/qiskit_machine_learning/kernels/fidelity_quantum_kernel.py:105\u001b[0m, in \u001b[0;36mFidelityQuantumKernel.evaluate\u001b[0;34m(self, x_vec, y_vec)\u001b[0m\n\u001b[1;32m    102\u001b[0m kernel_shape \u001b[39m=\u001b[39m (x_vec\u001b[39m.\u001b[39mshape[\u001b[39m0\u001b[39m], y_vec\u001b[39m.\u001b[39mshape[\u001b[39m0\u001b[39m])\n\u001b[1;32m    104\u001b[0m \u001b[39mif\u001b[39;00m is_symmetric:\n\u001b[0;32m--> 105\u001b[0m     left_parameters, right_parameters, indices \u001b[39m=\u001b[39m \u001b[39mself\u001b[39;49m\u001b[39m.\u001b[39;49m_get_symmetric_parameterization(x_vec)\n\u001b[1;32m    106\u001b[0m     kernel_matrix \u001b[39m=\u001b[39m \u001b[39mself\u001b[39m\u001b[39m.\u001b[39m_get_symmetric_kernel_matrix(\n\u001b[1;32m    107\u001b[0m         kernel_shape, left_parameters, right_parameters, indices\n\u001b[1;32m    108\u001b[0m     )\n\u001b[1;32m    109\u001b[0m \u001b[39melse\u001b[39;00m:\n",
      "File \u001b[0;32m~/.local/lib/python3.11/site-packages/qiskit_machine_learning/kernels/fidelity_quantum_kernel.py:159\u001b[0m, in \u001b[0;36mFidelityQuantumKernel._get_symmetric_parameterization\u001b[0;34m(self, x_vec)\u001b[0m\n\u001b[1;32m    156\u001b[0m             \u001b[39mcontinue\u001b[39;00m\n\u001b[1;32m    158\u001b[0m         left_parameters \u001b[39m=\u001b[39m np\u001b[39m.\u001b[39mvstack((left_parameters, x_i))\n\u001b[0;32m--> 159\u001b[0m         right_parameters \u001b[39m=\u001b[39m np\u001b[39m.\u001b[39;49mvstack((right_parameters, x_j))\n\u001b[1;32m    160\u001b[0m         indices\u001b[39m.\u001b[39mappend((i, i \u001b[39m+\u001b[39m j))\n\u001b[1;32m    162\u001b[0m \u001b[39mreturn\u001b[39;00m left_parameters, right_parameters, indices\n",
      "File \u001b[0;32m~/.local/lib/python3.11/site-packages/numpy/core/shape_base.py:289\u001b[0m, in \u001b[0;36mvstack\u001b[0;34m(tup, dtype, casting)\u001b[0m\n\u001b[1;32m    287\u001b[0m \u001b[39mif\u001b[39;00m \u001b[39mnot\u001b[39;00m \u001b[39misinstance\u001b[39m(arrs, \u001b[39mlist\u001b[39m):\n\u001b[1;32m    288\u001b[0m     arrs \u001b[39m=\u001b[39m [arrs]\n\u001b[0;32m--> 289\u001b[0m \u001b[39mreturn\u001b[39;00m _nx\u001b[39m.\u001b[39;49mconcatenate(arrs, \u001b[39m0\u001b[39;49m, dtype\u001b[39m=\u001b[39;49mdtype, casting\u001b[39m=\u001b[39;49mcasting)\n",
      "\u001b[0;31mKeyboardInterrupt\u001b[0m: "
     ]
    }
   ],
   "source": [
    "df = pd.read_csv(\"data/fetal_health_data.csv\", header = 0)\n",
    "\n",
    "df.drop_duplicates(inplace=True)\n",
    "\n",
    "X = df.drop(\"fetal_health\", axis=1)\n",
    "y = df[\"fetal_health\"]\n",
    "\n",
    "accuracy_fetal_health, y_pred_fetal_health = classic_SVC(X, y)\n",
    "print(f\"Accuracy of the SVC model: {accuracy_fetal_health}\")\n",
    "\n",
    "accuracy_fetal_health_quantum_svc, y_fetal_health_pred_quantum_svc = quantum_SVC(X, y)\n",
    "print(f\"Accuracy of the Quantum SVC model: {accuracy_fetal_health_quantum_svc}\")"
   ]
  },
  {
   "cell_type": "code",
   "execution_count": null,
   "metadata": {},
   "outputs": [],
   "source": [
    "df = pd.read_csv(\"data/breast_cancer_data.csv\", header = 0)\n",
    "\n",
    "df.drop('id', axis=1, inplace=True)\n",
    "df.drop('Unnamed: 32', axis=1, inplace=True)\n",
    "\n",
    "df['diagnosis'] = df['diagnosis'].map({'M':1,'B':0})\n",
    "df = df[[\"radius_mean\", \"texture_mean\", \"perimeter_mean\", \"area_mean\", \"smoothness_mean\", \"compactness_mean\", \"concavity_mean\", \"symmetry_mean\", \"fractal_dimension_mean\", \"diagnosis\"]]\n",
    "\n",
    "X = df.drop(\"diagnosis\", axis=1)\n",
    "y = df[\"diagnosis\"]\n",
    "\n",
    "accuracy_breast_cancer, y_pred_breast_cancer = classic_SVC(X, y)\n",
    "print(f\"Accuracy of the SVC model: {accuracy_breast_cancer}\")\n",
    "\n",
    "accuracy_breast_cancer_quantum_svc, y_breast_cancer_pred_quantum_svc = quantum_SVC(X, y)\n",
    "print(f\"Accuracy of the Quantum SVC model: {accuracy_breast_cancer_quantum_svc}\")"
   ]
  }
 ],
 "metadata": {
  "kernelspec": {
   "display_name": "Python 3 (ipykernel)",
   "language": "python",
   "name": "python3"
  },
  "language_info": {
   "codemirror_mode": {
    "name": "ipython",
    "version": 3
   },
   "file_extension": ".py",
   "mimetype": "text/x-python",
   "name": "python",
   "nbconvert_exporter": "python",
   "pygments_lexer": "ipython3",
   "version": "3.11.6"
  }
 },
 "nbformat": 4,
 "nbformat_minor": 5
}
